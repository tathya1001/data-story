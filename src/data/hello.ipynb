{
 "cells": [
  {
   "cell_type": "code",
   "execution_count": 1,
   "metadata": {},
   "outputs": [],
   "source": [
    "import json\n",
    "import csv\n"
   ]
  },
  {
   "cell_type": "code",
   "execution_count": 2,
   "metadata": {},
   "outputs": [
    {
     "name": "stdout",
     "output_type": "stream",
     "text": [
      "CSV file created: output.csv\n"
     ]
    }
   ],
   "source": [
    "import json\n",
    "import csv\n",
    "\n",
    "# File paths\n",
    "input_file = \"data.jsonl\"\n",
    "output_file = \"output.csv\"\n",
    "\n",
    "# Read JSONL and extract data\n",
    "with open(input_file, \"r\", encoding=\"utf-8\") as infile:\n",
    "    data_list = [json.loads(line)[\"data\"] for line in infile]\n",
    "\n",
    "# Extract unique field names\n",
    "fieldnames = set()\n",
    "for data in data_list:\n",
    "    fieldnames.update(data.keys())\n",
    "\n",
    "# Convert to CSV\n",
    "with open(output_file, \"w\", newline=\"\", encoding=\"utf-8\") as csvfile:\n",
    "    writer = csv.DictWriter(csvfile, fieldnames=sorted(fieldnames))\n",
    "    writer.writeheader()\n",
    "    writer.writerows(data_list)\n",
    "\n",
    "print(f\"CSV file created: {output_file}\")\n"
   ]
  },
  {
   "cell_type": "code",
   "execution_count": 3,
   "metadata": {},
   "outputs": [],
   "source": [
    "import pandas as pd"
   ]
  },
  {
   "cell_type": "code",
   "execution_count": 4,
   "metadata": {},
   "outputs": [
    {
     "name": "stdout",
     "output_type": "stream",
     "text": [
      "       approved_at_utc  approved_by  banned_at_utc  banned_by  category  \\\n",
      "count              0.0          0.0            0.0        0.0       0.0   \n",
      "mean               NaN          NaN            NaN        NaN       NaN   \n",
      "std                NaN          NaN            NaN        NaN       NaN   \n",
      "min                NaN          NaN            NaN        NaN       NaN   \n",
      "25%                NaN          NaN            NaN        NaN       NaN   \n",
      "50%                NaN          NaN            NaN        NaN       NaN   \n",
      "75%                NaN          NaN            NaN        NaN       NaN   \n",
      "max                NaN          NaN            NaN        NaN       NaN   \n",
      "\n",
      "       content_categories       created   created_utc  discussion_type  \\\n",
      "count                 0.0  8.799000e+03  8.799000e+03              0.0   \n",
      "mean                  NaN  1.737613e+09  1.737613e+09              NaN   \n",
      "std                   NaN  3.002417e+06  3.002417e+06              NaN   \n",
      "min                   NaN  1.721767e+09  1.721767e+09              NaN   \n",
      "25%                   NaN  1.737139e+09  1.737139e+09              NaN   \n",
      "50%                   NaN  1.738743e+09  1.738743e+09              NaN   \n",
      "75%                   NaN  1.739507e+09  1.739507e+09              NaN   \n",
      "max                   NaN  1.739879e+09  1.739879e+09              NaN   \n",
      "\n",
      "        downs  ...         score  subreddit_subscribers  thumbnail_height  \\\n",
      "count  8799.0  ...   8799.000000           8.799000e+03       6167.000000   \n",
      "mean      0.0  ...    388.866348           1.476751e+06         97.524080   \n",
      "std       0.0  ...   1886.171342           2.627094e+06         26.344754   \n",
      "min       0.0  ...      0.000000           1.227210e+05         18.000000   \n",
      "25%       0.0  ...     17.000000           2.109300e+05         78.000000   \n",
      "50%       0.0  ...     62.000000           4.670520e+05         93.000000   \n",
      "75%       0.0  ...    213.000000           1.200167e+06        117.000000   \n",
      "max       0.0  ...  49905.000000           8.740825e+06        140.000000   \n",
      "\n",
      "       thumbnail_width  top_awarded_type  total_awards_received           ups  \\\n",
      "count      6167.000000               0.0                 8799.0   8799.000000   \n",
      "mean        139.988649               NaN                    0.0    388.866348   \n",
      "std           0.891376               NaN                    0.0   1886.171342   \n",
      "min          70.000000               NaN                    0.0      0.000000   \n",
      "25%         140.000000               NaN                    0.0     17.000000   \n",
      "50%         140.000000               NaN                    0.0     62.000000   \n",
      "75%         140.000000               NaN                    0.0    213.000000   \n",
      "max         140.000000               NaN                    0.0  49905.000000   \n",
      "\n",
      "       upvote_ratio  view_count          wls  \n",
      "count   8799.000000         0.0  6836.000000  \n",
      "mean       0.861548         NaN     6.576653  \n",
      "std        0.163544         NaN     0.494126  \n",
      "min        0.050000         NaN     6.000000  \n",
      "25%        0.810000         NaN     6.000000  \n",
      "50%        0.920000         NaN     7.000000  \n",
      "75%        0.970000         NaN     7.000000  \n",
      "max        1.000000         NaN     7.000000  \n",
      "\n",
      "[8 rows x 31 columns]\n"
     ]
    },
    {
     "name": "stderr",
     "output_type": "stream",
     "text": [
      "C:\\Users\\tathy\\AppData\\Local\\Temp\\ipykernel_24992\\2859023994.py:1: DtypeWarning: Columns (8,29,30,32,36,44,53,80,82,98) have mixed types. Specify dtype option on import or set low_memory=False.\n",
      "  df = pd.read_csv(output_file)\n"
     ]
    }
   ],
   "source": [
    "df = pd.read_csv(output_file)\n",
    "print(df.describe())"
   ]
  },
  {
   "cell_type": "code",
   "execution_count": 5,
   "metadata": {},
   "outputs": [],
   "source": [
    "import pandas as pd\n",
    "\n",
    "# Assuming df is your DataFrame\n",
    "useless_columns = [\n",
    "    \"all_awardings\", \"allow_live_comments\", \"approved_at_utc\", \"approved_by\", \"archived\",\n",
    "    \"author_cakeday\", \"author_flair_background_color\", \"author_flair_css_class\",\n",
    "    \"author_flair_richtext\", \"author_flair_template_id\", \"author_flair_text\",\n",
    "    \"author_flair_text_color\", \"author_flair_type\", \"author_fullname\", \"author_is_blocked\",\n",
    "    \"author_patreon_flair\", \"author_premium\", \"awarders\", \"banned_at_utc\", \"banned_by\",\n",
    "    \"can_gild\", \"can_mod_post\", \"category\", \"clicked\", \"content_categories\",\n",
    "    \"contest_mode\", \"crosspost_parent\", \"crosspost_parent_list\", \"discussion_type\",\n",
    "    \"distinguished\", \"downs\", \"edited\", \"gallery_data\", \"gilded\", \"gildings\", \"hidden\",\n",
    "    \"hide_score\", \"is_created_from_ads_ui\", \"is_crosspostable\", \"is_gallery\",\n",
    "    \"is_meta\", \"is_original_content\", \"is_reddit_media_domain\", \"is_robot_indexable\",\n",
    "    \"is_self\", \"is_video\", \"likes\", \"link_flair_background_color\", \"link_flair_css_class\",\n",
    "    \"link_flair_richtext\", \"link_flair_template_id\", \"link_flair_text\",\n",
    "    \"link_flair_text_color\", \"link_flair_type\", \"locked\", \"media\", \"media_embed\",\n",
    "    \"media_metadata\", \"media_only\", \"mod_note\", \"mod_reason_by\", \"mod_reason_title\",\n",
    "    \"mod_reports\", \"name\", \"no_follow\", \"num_crossposts\", \"num_reports\", \"over_18\",\n",
    "    \"pinned\", \"post_hint\", \"preview\", \"pwls\", \"quarantine\", \"removal_reason\",\n",
    "    \"removed_by\", \"removed_by_category\", \"report_reasons\", \"saved\", \"secure_media\",\n",
    "    \"secure_media_embed\", \"selftext_html\", \"send_replies\", \"spoiler\", \"stickied\",\n",
    "    \"subreddit_id\", \"subreddit_name_prefixed\", \"subreddit_subscribers\", \"subreddit_type\",\n",
    "    \"suggested_sort\", \"thumbnail\", \"thumbnail_height\", \"thumbnail_width\",\n",
    "    \"top_awarded_type\", \"total_awards_received\", \"treatment_tags\", \"url_overridden_by_dest\",\n",
    "    \"user_reports\", \"view_count\", \"visited\", \"wls\", \"url\"\n",
    "]\n",
    "\n",
    "# Drop columns if they exist in df\n",
    "df = df.drop(columns=[col for col in useless_columns if col in df.columns])\n",
    "\n",
    "# Display the first few rows of the cleaned DataFrame\n",
    "\n"
   ]
  },
  {
   "cell_type": "code",
   "execution_count": 6,
   "metadata": {},
   "outputs": [
    {
     "name": "stdout",
     "output_type": "stream",
     "text": [
      "               author       created   created_utc  \\\n",
      "0       AutoModerator  1.739858e+09  1.739858e+09   \n",
      "1  NewMunicipalAgenda  1.739818e+09  1.739818e+09   \n",
      "2  Charming-Score7015  1.739757e+09  1.739757e+09   \n",
      "3    NoBackground7266  1.739816e+09  1.739816e+09   \n",
      "4             Jewstun  1.739811e+09  1.739811e+09   \n",
      "\n",
      "                             domain       id  num_comments  \\\n",
      "0                    self.Anarchism  1is5wgo             1   \n",
      "1  usufructcollective.wordpress.com  1irrceg             2   \n",
      "2                    self.Anarchism  1ir8tnp             2   \n",
      "3                    self.Anarchism  1irq9vp            20   \n",
      "4                    self.Anarchism  1irojku             1   \n",
      "\n",
      "                                           permalink  score  \\\n",
      "0  /r/Anarchism/comments/1is5wgo/what_are_you_rea...      2   \n",
      "1  /r/Anarchism/comments/1irrceg/wtf_is_social_ec...     48   \n",
      "2  /r/Anarchism/comments/1ir8tnp/who_do_you_think...      3   \n",
      "3  /r/Anarchism/comments/1irq9vp/not_paying_stude...     33   \n",
      "4  /r/Anarchism/comments/1irojku/recommendations_...      7   \n",
      "\n",
      "                                            selftext  subreddit  \\\n",
      "0   What you are reading, watching, or listening ...  Anarchism   \n",
      "1                                                NaN  Anarchism   \n",
      "2  I am an anarcho-nihilist and i am reading simi...  Anarchism   \n",
      "3  Ayo, im an anarchist but perhaps not the most ...  Anarchism   \n",
      "4  Looking for videos/podcasts/writing where folk...  Anarchism   \n",
      "\n",
      "                                               title  ups  upvote_ratio  \n",
      "0             What Are You Reading/Book Club Tuesday    2          1.00  \n",
      "1    \"WTF is Social Ecology?\" by Usufruct Collective   48          0.96  \n",
      "2  Who do you think is the most powerful/popular ...    3          1.00  \n",
      "3                  Not paying student loans or taxes   33          0.95  \n",
      "4    Recommendations for intellectual debate content    7          0.82  \n"
     ]
    }
   ],
   "source": [
    "print(df.head())"
   ]
  },
  {
   "cell_type": "code",
   "execution_count": 7,
   "metadata": {},
   "outputs": [
    {
     "name": "stdout",
     "output_type": "stream",
     "text": [
      "['author', 'created', 'created_utc', 'domain', 'id', 'num_comments', 'permalink', 'score', 'selftext', 'subreddit', 'title', 'ups', 'upvote_ratio']\n"
     ]
    }
   ],
   "source": [
    "print(df.columns.tolist())"
   ]
  },
  {
   "cell_type": "code",
   "execution_count": null,
   "metadata": {},
   "outputs": [
    {
     "name": "stdout",
     "output_type": "stream",
     "text": [
      "DataFrame saved\n"
     ]
    }
   ],
   "source": [
    "df.to_csv('cleaned_output.csv', index=False)\n",
    "print(\"DataFrame saved\")"
   ]
  },
  {
   "cell_type": "code",
   "execution_count": 12,
   "metadata": {},
   "outputs": [
    {
     "name": "stdout",
     "output_type": "stream",
     "text": [
      "^C\n"
     ]
    },
    {
     "name": "stdout",
     "output_type": "stream",
     "text": [
      "Collecting plotly\n",
      "  Downloading plotly-6.0.0-py3-none-any.whl.metadata (5.6 kB)\n",
      "Requirement already satisfied: narwhals>=1.15.1 in c:\\users\\tathy\\appdata\\local\\programs\\python\\python311\\lib\\site-packages (from plotly) (1.19.0)\n",
      "Requirement already satisfied: packaging in c:\\users\\tathy\\appdata\\local\\programs\\python\\python311\\lib\\site-packages (from plotly) (24.1)\n",
      "Downloading plotly-6.0.0-py3-none-any.whl (14.8 MB)\n",
      "   ---------------------------------------- 0.0/14.8 MB ? eta -:--:--\n",
      "   - -------------------------------------- 0.5/14.8 MB 4.2 MB/s eta 0:00:04\n",
      "   -- ------------------------------------- 1.0/14.8 MB 3.0 MB/s eta 0:00:05\n",
      "   ---- ----------------------------------- 1.6/14.8 MB 3.0 MB/s eta 0:00:05\n",
      "   ----- ---------------------------------- 2.1/14.8 MB 3.0 MB/s eta 0:00:05\n",
      "   ------- -------------------------------- 2.6/14.8 MB 2.8 MB/s eta 0:00:05\n",
      "   ------- -------------------------------- 2.9/14.8 MB 2.7 MB/s eta 0:00:05\n",
      "   -------- ------------------------------- 3.1/14.8 MB 2.5 MB/s eta 0:00:05\n",
      "   --------- ------------------------------ 3.4/14.8 MB 2.3 MB/s eta 0:00:05\n",
      "   ---------- ----------------------------- 3.9/14.8 MB 2.1 MB/s eta 0:00:06\n",
      "   ----------- ---------------------------- 4.2/14.8 MB 2.1 MB/s eta 0:00:06\n",
      "   ------------ --------------------------- 4.7/14.8 MB 2.0 MB/s eta 0:00:05\n",
      "   ------------- -------------------------- 5.0/14.8 MB 2.0 MB/s eta 0:00:05\n",
      "   -------------- ------------------------- 5.5/14.8 MB 2.0 MB/s eta 0:00:05\n",
      "   ---------------- ----------------------- 6.0/14.8 MB 2.1 MB/s eta 0:00:05\n",
      "   ---------------- ----------------------- 6.3/14.8 MB 2.1 MB/s eta 0:00:05\n",
      "   ------------------ --------------------- 6.8/14.8 MB 2.1 MB/s eta 0:00:04\n",
      "   ------------------- -------------------- 7.3/14.8 MB 2.1 MB/s eta 0:00:04\n",
      "   --------------------- ------------------ 7.9/14.8 MB 2.1 MB/s eta 0:00:04\n",
      "   --------------------- ------------------ 8.1/14.8 MB 2.1 MB/s eta 0:00:04\n",
      "   ----------------------- ---------------- 8.7/14.8 MB 2.0 MB/s eta 0:00:04\n",
      "   ------------------------ --------------- 8.9/14.8 MB 2.0 MB/s eta 0:00:03\n",
      "   ------------------------ --------------- 9.2/14.8 MB 2.0 MB/s eta 0:00:03\n",
      "   -------------------------- ------------- 9.7/14.8 MB 2.0 MB/s eta 0:00:03\n",
      "   -------------------------- ------------- 10.0/14.8 MB 2.0 MB/s eta 0:00:03\n",
      "   ---------------------------- ----------- 10.5/14.8 MB 2.0 MB/s eta 0:00:03\n",
      "   ----------------------------- ---------- 11.0/14.8 MB 2.0 MB/s eta 0:00:02\n",
      "   ------------------------------- -------- 11.5/14.8 MB 2.0 MB/s eta 0:00:02\n",
      "   --------------------------------- ------ 12.3/14.8 MB 2.1 MB/s eta 0:00:02\n",
      "   ---------------------------------- ----- 12.8/14.8 MB 2.1 MB/s eta 0:00:01\n",
      "   ------------------------------------ --- 13.4/14.8 MB 2.1 MB/s eta 0:00:01\n",
      "   ------------------------------------- -- 13.9/14.8 MB 2.1 MB/s eta 0:00:01\n",
      "   -------------------------------------- - 14.4/14.8 MB 2.1 MB/s eta 0:00:01\n",
      "   ---------------------------------------- 14.8/14.8 MB 2.1 MB/s eta 0:00:00\n",
      "Installing collected packages: plotly\n",
      "Successfully installed plotly-6.0.0\n"
     ]
    },
    {
     "name": "stderr",
     "output_type": "stream",
     "text": [
      "WARNING: Ignoring invalid distribution ~orch (C:\\Users\\tathy\\AppData\\Local\\Programs\\Python\\Python311\\Lib\\site-packages)\n",
      "WARNING: Ignoring invalid distribution ~upyterlab (C:\\Users\\tathy\\AppData\\Local\\Programs\\Python\\Python311\\Lib\\site-packages)\n",
      "WARNING: Ignoring invalid distribution ~orch (C:\\Users\\tathy\\AppData\\Local\\Programs\\Python\\Python311\\Lib\\site-packages)\n",
      "WARNING: Ignoring invalid distribution ~upyterlab (C:\\Users\\tathy\\AppData\\Local\\Programs\\Python\\Python311\\Lib\\site-packages)\n",
      "WARNING: Ignoring invalid distribution ~orch (C:\\Users\\tathy\\AppData\\Local\\Programs\\Python\\Python311\\Lib\\site-packages)\n",
      "WARNING: Ignoring invalid distribution ~upyterlab (C:\\Users\\tathy\\AppData\\Local\\Programs\\Python\\Python311\\Lib\\site-packages)\n",
      "\n",
      "[notice] A new release of pip is available: 25.0 -> 25.0.1\n",
      "[notice] To update, run: python.exe -m pip install --upgrade pip\n"
     ]
    }
   ],
   "source": [
    "!pip install plotly"
   ]
  },
  {
   "cell_type": "code",
   "execution_count": 11,
   "metadata": {},
   "outputs": [
    {
     "ename": "ModuleNotFoundError",
     "evalue": "No module named 'plotly'",
     "output_type": "error",
     "traceback": [
      "\u001b[1;31m---------------------------------------------------------------------------\u001b[0m",
      "\u001b[1;31mModuleNotFoundError\u001b[0m                       Traceback (most recent call last)",
      "Cell \u001b[1;32mIn[11], line 2\u001b[0m\n\u001b[0;32m      1\u001b[0m \u001b[38;5;28;01mimport\u001b[39;00m \u001b[38;5;21;01mpandas\u001b[39;00m \u001b[38;5;28;01mas\u001b[39;00m \u001b[38;5;21;01mpd\u001b[39;00m\n\u001b[1;32m----> 2\u001b[0m \u001b[38;5;28;01mimport\u001b[39;00m \u001b[38;5;21;01mplotly\u001b[39;00m\u001b[38;5;21;01m.\u001b[39;00m\u001b[38;5;21;01mexpress\u001b[39;00m \u001b[38;5;28;01mas\u001b[39;00m \u001b[38;5;21;01mpx\u001b[39;00m\n\u001b[0;32m      4\u001b[0m \u001b[38;5;66;03m# Load dataset\u001b[39;00m\n\u001b[0;32m      5\u001b[0m file_path \u001b[38;5;241m=\u001b[39m \u001b[38;5;124m\"\u001b[39m\u001b[38;5;124mcleaned_output.csv\u001b[39m\u001b[38;5;124m\"\u001b[39m  \u001b[38;5;66;03m# Update if needed\u001b[39;00m\n",
      "\u001b[1;31mModuleNotFoundError\u001b[0m: No module named 'plotly'"
     ]
    }
   ],
   "source": [
    "import pandas as pd\n",
    "import plotly.express as px\n",
    "\n",
    "# Load dataset\n",
    "file_path = \"cleaned_output.csv\"  # Update if needed\n",
    "df = pd.read_csv(file_path)\n",
    "\n",
    "# Ensure 'domain' column exists\n",
    "if 'domain' not in df.columns:\n",
    "    raise ValueError(\"Dataset must contain a 'domain' column.\")\n",
    "\n",
    "# Count occurrences of each domain\n",
    "domain_counts = df['domain'].value_counts().reset_index()\n",
    "domain_counts.columns = ['domain', 'count']\n",
    "\n",
    "# Create Pie Chart\n",
    "fig = px.pie(domain_counts, values='count', names='domain', \n",
    "             title=\"Distribution of Domains in Dataset\",\n",
    "             color_discrete_sequence=px.colors.qualitative.Set3)\n",
    "\n",
    "# Show plot\n",
    "fig.show()\n"
   ]
  },
  {
   "cell_type": "code",
   "execution_count": 9,
   "metadata": {},
   "outputs": [
    {
     "name": "stdout",
     "output_type": "stream",
     "text": [
      "Requirement already satisfied: networkx in c:\\users\\tathy\\appdata\\local\\programs\\python\\python311\\lib\\site-packages (3.3)\n",
      "Requirement already satisfied: pyvis in c:\\users\\tathy\\appdata\\local\\programs\\python\\python311\\lib\\site-packages (0.3.2)\n",
      "Requirement already satisfied: ipython>=5.3.0 in c:\\users\\tathy\\appdata\\local\\programs\\python\\python311\\lib\\site-packages (from pyvis) (8.14.0)\n",
      "Requirement already satisfied: jinja2>=2.9.6 in c:\\users\\tathy\\appdata\\local\\programs\\python\\python311\\lib\\site-packages (from pyvis) (3.1.2)\n",
      "Requirement already satisfied: jsonpickle>=1.4.1 in c:\\users\\tathy\\appdata\\local\\programs\\python\\python311\\lib\\site-packages (from pyvis) (4.0.2)\n",
      "Requirement already satisfied: backcall in c:\\users\\tathy\\appdata\\local\\programs\\python\\python311\\lib\\site-packages (from ipython>=5.3.0->pyvis) (0.2.0)\n",
      "Requirement already satisfied: decorator in c:\\users\\tathy\\appdata\\local\\programs\\python\\python311\\lib\\site-packages (from ipython>=5.3.0->pyvis) (5.1.1)\n",
      "Requirement already satisfied: jedi>=0.16 in c:\\users\\tathy\\appdata\\local\\programs\\python\\python311\\lib\\site-packages (from ipython>=5.3.0->pyvis) (0.18.2)\n",
      "Requirement already satisfied: matplotlib-inline in c:\\users\\tathy\\appdata\\local\\programs\\python\\python311\\lib\\site-packages (from ipython>=5.3.0->pyvis) (0.1.6)\n",
      "Requirement already satisfied: pickleshare in c:\\users\\tathy\\appdata\\local\\programs\\python\\python311\\lib\\site-packages (from ipython>=5.3.0->pyvis) (0.7.5)\n",
      "Requirement already satisfied: prompt-toolkit!=3.0.37,<3.1.0,>=3.0.30 in c:\\users\\tathy\\appdata\\local\\programs\\python\\python311\\lib\\site-packages (from ipython>=5.3.0->pyvis) (3.0.38)\n",
      "Requirement already satisfied: pygments>=2.4.0 in c:\\users\\tathy\\appdata\\local\\programs\\python\\python311\\lib\\site-packages (from ipython>=5.3.0->pyvis) (2.15.1)\n",
      "Requirement already satisfied: stack-data in c:\\users\\tathy\\appdata\\local\\programs\\python\\python311\\lib\\site-packages (from ipython>=5.3.0->pyvis) (0.6.2)\n",
      "Requirement already satisfied: traitlets>=5 in c:\\users\\tathy\\appdata\\local\\programs\\python\\python311\\lib\\site-packages (from ipython>=5.3.0->pyvis) (5.9.0)\n",
      "Requirement already satisfied: colorama in c:\\users\\tathy\\appdata\\local\\programs\\python\\python311\\lib\\site-packages (from ipython>=5.3.0->pyvis) (0.4.6)\n",
      "Requirement already satisfied: MarkupSafe>=2.0 in c:\\users\\tathy\\appdata\\local\\programs\\python\\python311\\lib\\site-packages (from jinja2>=2.9.6->pyvis) (2.1.3)\n",
      "Requirement already satisfied: parso<0.9.0,>=0.8.0 in c:\\users\\tathy\\appdata\\local\\programs\\python\\python311\\lib\\site-packages (from jedi>=0.16->ipython>=5.3.0->pyvis) (0.8.3)\n",
      "Requirement already satisfied: wcwidth in c:\\users\\tathy\\appdata\\local\\programs\\python\\python311\\lib\\site-packages (from prompt-toolkit!=3.0.37,<3.1.0,>=3.0.30->ipython>=5.3.0->pyvis) (0.2.6)\n",
      "Requirement already satisfied: executing>=1.2.0 in c:\\users\\tathy\\appdata\\local\\programs\\python\\python311\\lib\\site-packages (from stack-data->ipython>=5.3.0->pyvis) (1.2.0)\n",
      "Requirement already satisfied: asttokens>=2.1.0 in c:\\users\\tathy\\appdata\\local\\programs\\python\\python311\\lib\\site-packages (from stack-data->ipython>=5.3.0->pyvis) (2.2.1)\n",
      "Requirement already satisfied: pure-eval in c:\\users\\tathy\\appdata\\local\\programs\\python\\python311\\lib\\site-packages (from stack-data->ipython>=5.3.0->pyvis) (0.2.2)\n",
      "Requirement already satisfied: six in c:\\users\\tathy\\appdata\\local\\programs\\python\\python311\\lib\\site-packages (from asttokens>=2.1.0->stack-data->ipython>=5.3.0->pyvis) (1.16.0)\n"
     ]
    },
    {
     "name": "stderr",
     "output_type": "stream",
     "text": [
      "WARNING: Ignoring invalid distribution ~orch (C:\\Users\\tathy\\AppData\\Local\\Programs\\Python\\Python311\\Lib\\site-packages)\n",
      "WARNING: Ignoring invalid distribution ~upyterlab (C:\\Users\\tathy\\AppData\\Local\\Programs\\Python\\Python311\\Lib\\site-packages)\n",
      "WARNING: Ignoring invalid distribution ~orch (C:\\Users\\tathy\\AppData\\Local\\Programs\\Python\\Python311\\Lib\\site-packages)\n",
      "WARNING: Ignoring invalid distribution ~upyterlab (C:\\Users\\tathy\\AppData\\Local\\Programs\\Python\\Python311\\Lib\\site-packages)\n",
      "WARNING: Ignoring invalid distribution ~orch (C:\\Users\\tathy\\AppData\\Local\\Programs\\Python\\Python311\\Lib\\site-packages)\n",
      "WARNING: Ignoring invalid distribution ~upyterlab (C:\\Users\\tathy\\AppData\\Local\\Programs\\Python\\Python311\\Lib\\site-packages)\n",
      "\n",
      "[notice] A new release of pip is available: 25.0 -> 25.0.1\n",
      "[notice] To update, run: python.exe -m pip install --upgrade pip\n"
     ]
    }
   ],
   "source": [
    "!pip install networkx pyvis"
   ]
  },
  {
   "cell_type": "code",
   "execution_count": 10,
   "metadata": {},
   "outputs": [],
   "source": [
    "# import pandas as pd\n",
    "# import networkx as nx\n",
    "# from pyvis.network import Network\n",
    "\n",
    "# # Load dataset\n",
    "# file_path = \"cleaned_output.csv\"  # Update if needed\n",
    "# df = pd.read_csv(file_path)\n",
    "\n",
    "# # Ensure required columns exist\n",
    "# if 'author' not in df.columns or 'subreddit' not in df.columns:\n",
    "#     raise ValueError(\"Dataset must contain 'author' and 'subreddit' columns.\")\n",
    "\n",
    "# # Drop rows where 'author' or 'subreddit' are missing\n",
    "# df = df.dropna(subset=['author', 'subreddit'])\n",
    "\n",
    "# # Create graph\n",
    "# G = nx.Graph()\n",
    "\n",
    "# # Add edges based on subreddit connections\n",
    "# for _, row in df.iterrows():\n",
    "#     author = row['author']\n",
    "#     subreddit = row['subreddit']\n",
    "    \n",
    "#     # Add nodes if they are valid (not empty)\n",
    "#     if pd.notna(author) and pd.notna(subreddit):\n",
    "#         G.add_node(author, label=author, color=\"yellow\")\n",
    "#         G.add_node(subreddit, label=subreddit, color=\"purple\")\n",
    "#         G.add_edge(author, subreddit, weight=2)\n",
    "\n",
    "# # Create an interactive network\n",
    "# net = Network(height=\"800px\", width=\"100%\", notebook=True, bgcolor=\"#222222\", font_color=\"white\")\n",
    "# net.from_nx(G)\n",
    "\n",
    "# # Save and display the interactive network\n",
    "# output_file = \"network_graph.html\"\n",
    "# net.save_graph(output_file)\n",
    "# print(f\"Interactive graph saved as {output_file}\")\n"
   ]
  }
 ],
 "metadata": {
  "kernelspec": {
   "display_name": "Python 3",
   "language": "python",
   "name": "python3"
  },
  "language_info": {
   "codemirror_mode": {
    "name": "ipython",
    "version": 3
   },
   "file_extension": ".py",
   "mimetype": "text/x-python",
   "name": "python",
   "nbconvert_exporter": "python",
   "pygments_lexer": "ipython3",
   "version": "3.11.1"
  }
 },
 "nbformat": 4,
 "nbformat_minor": 2
}
